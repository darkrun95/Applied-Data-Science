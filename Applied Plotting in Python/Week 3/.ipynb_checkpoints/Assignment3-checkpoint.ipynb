{
 "cells": [
  {
   "cell_type": "markdown",
   "metadata": {},
   "source": [
    "# Assignment 3 - Building a Custom Visualization\n",
    "\n",
    "---\n",
    "\n",
    "In this assignment you must choose one of the options presented below and submit a visual as well as your source code for peer grading. The details of how you solve the assignment are up to you, although your assignment must use matplotlib so that your peers can evaluate your work. The options differ in challenge level, but there are no grades associated with the challenge level you chose. However, your peers will be asked to ensure you at least met a minimum quality for a given technique in order to pass. Implement the technique fully (or exceed it!) and you should be able to earn full grades for the assignment.\n",
    "\n",
    "\n",
    "&nbsp;&nbsp;&nbsp;&nbsp;&nbsp;&nbsp;Ferreira, N., Fisher, D., & Konig, A. C. (2014, April). [Sample-oriented task-driven visualizations: allowing users to make better, more confident decisions.](https://www.microsoft.com/en-us/research/wp-content/uploads/2016/02/Ferreira_Fisher_Sample_Oriented_Tasks.pdf) \n",
    "&nbsp;&nbsp;&nbsp;&nbsp;&nbsp;&nbsp;In Proceedings of the SIGCHI Conference on Human Factors in Computing Systems (pp. 571-580). ACM. ([video](https://www.youtube.com/watch?v=BI7GAs-va-Q))\n",
    "\n",
    "\n",
    "In this [paper](https://www.microsoft.com/en-us/research/wp-content/uploads/2016/02/Ferreira_Fisher_Sample_Oriented_Tasks.pdf) the authors describe the challenges users face when trying to make judgements about probabilistic data generated through samples. As an example, they look at a bar chart of four years of data (replicated below in Figure 1). Each year has a y-axis value, which is derived from a sample of a larger dataset. For instance, the first value might be the number votes in a given district or riding for 1992, with the average being around 33,000. On top of this is plotted the confidence interval -- the range of the number of votes which encapsulates 95% of the data (see the boxplot lectures for more information, and the yerr parameter of barcharts).\n",
    "\n",
    "<br>\n",
    "<img src=\"readonly/Assignment3Fig1.png\" alt=\"Figure 1\" style=\"width: 400px;\"/>\n",
    "<h4 style=\"text-align: center;\" markdown=\"1\">  &nbsp;&nbsp;&nbsp;&nbsp;&nbsp;&nbsp;&nbsp;&nbsp;Figure 1 from (Ferreira et al, 2014).</h4>\n",
    "\n",
    "<br>\n",
    "\n",
    "A challenge that users face is that, for a given y-axis value (e.g. 42,000), it is difficult to know which x-axis values are most likely to be representative, because the confidence levels overlap and their distributions are different (the lengths of the confidence interval bars are unequal). One of the solutions the authors propose for this problem (Figure 2c) is to allow users to indicate the y-axis value of interest (e.g. 42,000) and then draw a horizontal line and color bars based on this value. So bars might be colored red if they are definitely above this value (given the confidence interval), blue if they are definitely below this value, or white if they contain this value.\n",
    "\n",
    "\n",
    "<br>\n",
    "<img src=\"readonly/Assignment3Fig2c.png\" alt=\"Figure 1\" style=\"width: 400px;\"/>\n",
    "<h4 style=\"text-align: center;\" markdown=\"1\">  Figure 2c from (Ferreira et al. 2014). Note that the colorbar legend at the bottom as well as the arrows are not required in the assignment descriptions below.</h4>\n",
    "\n",
    "<br>\n",
    "<br>\n",
    "\n",
    "**Easiest option:** Implement the bar coloring as described above - a color scale with only three colors, (e.g. blue, white, and red). Assume the user provides the y axis value of interest as a parameter or variable.\n",
    "\n",
    "\n",
    "**Harder option:** Implement the bar coloring as described in the paper, where the color of the bar is actually based on the amount of data covered (e.g. a gradient ranging from dark blue for the distribution being certainly below this y-axis, to white if the value is certainly contained, to dark red if the value is certainly not contained as the distribution is above the axis).\n",
    "\n",
    "**Even Harder option:** Add interactivity to the above, which allows the user to click on the y axis to set the value of interest. The bar colors should change with respect to what value the user has selected.\n",
    "\n",
    "**Hardest option:** Allow the user to interactively set a range of y values they are interested in, and recolor based on this (e.g. a y-axis band, see the paper for more details).\n",
    "\n",
    "---"
   ]
  },
  {
   "cell_type": "code",
   "execution_count": null,
   "metadata": {
    "collapsed": true
   },
   "outputs": [],
   "source": [
    "import pandas as pd\n",
    "import numpy as np\n",
    "import matplotlib.pyplot as plt\n",
    "import matplotlib.colors as colors\n",
    "import matplotlib.cm as colormap\n",
    "\n",
    "%matplotlib notebook\n",
    "\n",
    "np.random.seed(12345)\n",
    "\n",
    "df = pd.DataFrame([np.random.normal(33500,150000,3650), \n",
    "                   np.random.normal(41000,90000,3650), \n",
    "                   np.random.normal(41000,120000,3650), \n",
    "                   np.random.normal(48000,55000,3650)], \n",
    "                  index=[1992,1993,1994,1995])\n"
   ]
  },
  {
   "cell_type": "code",
   "execution_count": null,
   "metadata": {
    "collapsed": true
   },
   "outputs": [],
   "source": [
    "x_val = np.arange(len(df.index))\n",
    "df[\"mean\"] = df.apply(lambda x:x.mean(), axis=1)\n",
    "df[\"std\"] = df.apply(lambda x:x.std(), axis=1)\n",
    "values = df[\"mean\"]\n",
    "\n",
    "sample_size = 3650\n",
    "df[\"confidence\"] = df.apply(lambda x: 1.96 * (x[3651] / np.sqrt(sample_size)), axis=1)\n",
    "df[\"upper_confidence\"] = df.apply(lambda x: x[3650] + x[3652], axis=1)\n",
    "df[\"lower_confidence\"] = df.apply(lambda x: x[3650] - x[3652], axis=1)"
   ]
  },
  {
   "cell_type": "code",
   "execution_count": null,
   "metadata": {},
   "outputs": [],
   "source": [
    "_ = plt.figure()\n",
    "\n",
    "range_value = int(input(\"Enter y axis value : \"))\n",
    "lower_values = df[\"lower_confidence\"]\n",
    "upper_values = df[\"upper_confidence\"]\n",
    "\n",
    "color_values = []\n",
    "for val in zip(upper_values, lower_values):\n",
    "    if range_value >= val[1] and range_value <= val[0]:\n",
    "        color_values.append(\"w\")\n",
    "    elif range_value < val[1]:\n",
    "        color_values.append(\"r\")\n",
    "    elif range_value > val[0]:\n",
    "        color_values.append(\"b\")\n",
    "\n",
    "_ = plt.bar(x_val, values, color=color_values, align='center', alpha=0.5, yerr=df[\"confidence\"], edgecolor=\"black\")\n",
    "_ = plt.xticks(x_val, df.index)\n",
    "_ = plt.axhline(y=range_value, linewidth=1, color=\"black\")"
   ]
  },
  {
   "cell_type": "code",
   "execution_count": null,
   "metadata": {},
   "outputs": [],
   "source": [
    "_ = plt.figure()\n",
    "\n",
    "range_value = int(input(\"Enter y axis value : \"))\n",
    "lower_value = df[\"lower_confidence\"]\n",
    "upper_value = df[\"upper_confidence\"]\n",
    "\n",
    "normalize_values = [colors.Normalize(vmin=val[0], vmax=val[1]) for val in zip(lower_value, upper_value)]\n",
    "cmap = colormap.get_cmap(\"bwr\")\n",
    "sm = plt.cm.ScalarMappable(cmap=cmap)\n",
    "sm.set_array([])\n",
    "color_val = [cmap(1 - x(range_value)) for x in normalize_values]\n",
    "\n",
    "_ = plt.bar(x_val, values, color=color_val, alpha=0.5, align='center', yerr=df[\"confidence\"], edgecolor=\"black\")\n",
    "_ = plt.xticks(x_val, df.index)\n",
    "_ = plt.axhline(y=range_value, linewidth=0.5, color=\"black\")\n",
    "_ = plt.colorbar(sm, alpha=0.5)"
   ]
  },
  {
   "cell_type": "code",
   "execution_count": null,
   "metadata": {},
   "outputs": [],
   "source": [
    "_ = plt.figure()\n",
    "\n",
    "range_value = 0\n",
    "lower_value = df[\"lower_confidence\"]\n",
    "upper_value = df[\"upper_confidence\"]\n",
    "\n",
    "normalize_values = [colors.Normalize(vmin=val[0], vmax=val[1]) for val in zip(lower_value, upper_value)]\n",
    "cmap = colormap.get_cmap(\"bwr\")\n",
    "sm = plt.cm.ScalarMappable(cmap=cmap)\n",
    "sm.set_array([])\n",
    "color_val = []\n",
    "\n",
    "def on_press(event):\n",
    "    plt.cla()\n",
    "    range_value = event.ydata\n",
    "    color_val = [cmap(1 - x(range_value)) for x in normalize_values]\n",
    "    _ = plt.bar(x_val, values, color=color_val, alpha=0.5, align='center', yerr=df[\"confidence\"], edgecolor=\"black\")\n",
    "    _ = plt.xticks(x_val, df.index)\n",
    "    _ = plt.axhline(y=range_value, linewidth=0.5, color=\"black\")\n",
    "    \n",
    "_ = plt.bar(x_val, values, color=color_val, alpha=0.5, align='center', yerr=df[\"confidence\"], edgecolor=\"black\")\n",
    "_ = plt.xticks(x_val, df.index)\n",
    "_ = plt.colorbar(sm, alpha=0.5)\n",
    "_ = plt.gcf().canvas.mpl_connect('button_press_event', on_press)"
   ]
  },
  {
   "cell_type": "code",
   "execution_count": null,
   "metadata": {
    "collapsed": true
   },
   "outputs": [],
   "source": []
  }
 ],
 "metadata": {
  "kernelspec": {
   "display_name": "Python 3",
   "language": "python",
   "name": "python3"
  },
  "language_info": {
   "codemirror_mode": {
    "name": "ipython",
    "version": 3
   },
   "file_extension": ".py",
   "mimetype": "text/x-python",
   "name": "python",
   "nbconvert_exporter": "python",
   "pygments_lexer": "ipython3",
   "version": "3.5.2"
  }
 },
 "nbformat": 4,
 "nbformat_minor": 2
}
